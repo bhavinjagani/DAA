{
 "cells": [
  {
   "cell_type": "code",
   "execution_count": null,
   "metadata": {},
   "outputs": [],
   "source": [
    "# Re-importing required libraries\n",
    "import numpy as np\n",
    "import matplotlib.pyplot as plt\n",
    "import time\n",
    "\n",
    "# Re-defining f(n) function\n",
    "def f(n):\n",
    "    x = 1\n",
    "    for i in range(n):\n",
    "        for j in range(n):\n",
    "            x += 1\n",
    "    return x\n",
    "\n",
    "# Re-run the zoomed analysis\n",
    "n_zoom_values_fine = np.arange(1, 100, 10)  # Smaller range for n to zoom in\n",
    "times_zoom_fine = []\n",
    "\n",
    "# Measuring times for the smaller range\n",
    "for n in n_zoom_values_fine:\n",
    "    start_time = time.time()\n",
    "    f(n)\n",
    "    end_time = time.time()\n",
    "    times_zoom_fine.append(end_time - start_time)\n",
    "\n",
    "# Using the previous polynomial fit function from quadratic approximation\n",
    "def poly2(x, a, b, c):\n",
    "    return a * x**2 + b * x + c\n",
    "\n",
    "# Example polynomial fit parameters (you may need to refit it)\n",
    "params = [4.93e-8, -5.83e-6, 5.32e-4]  # From earlier analysis\n",
    "\n",
    "# Plotting the zoomed-in section to locate n_0\n",
    "plt.plot(n_zoom_values_fine, times_zoom_fine, label='Measured Time (Zoomed)')\n",
    "plt.plot(n_zoom_values_fine, poly2(n_zoom_values_fine, *params), '--', label='Quadratic Fit (Zoomed)')\n",
    "plt.xlabel('n')\n",
    "plt.ylabel('Time (seconds)')\n",
    "plt.title('Zoomed-in Time vs n to Find $n_0$')\n",
    "plt.axvline(x=50, color='r', linestyle='--', label='$n_0$ (approx)')\n",
    "plt.legend()\n",
    "plt.grid(True)\n",
    "\n",
    "plt.show()\n"
   ]
  }
 ],
 "metadata": {
  "language_info": {
   "name": "python"
  }
 },
 "nbformat": 4,
 "nbformat_minor": 2
}
